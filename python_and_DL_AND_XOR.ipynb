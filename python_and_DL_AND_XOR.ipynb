{
  "nbformat": 4,
  "nbformat_minor": 0,
  "metadata": {
    "colab": {
      "name": "python and DL AND XOR.ipynb",
      "provenance": [],
      "collapsed_sections": []
    },
    "kernelspec": {
      "name": "python3",
      "display_name": "Python 3"
    },
    "language_info": {
      "name": "python"
    }
  },
  "cells": [
    {
      "cell_type": "code",
      "metadata": {
        "id": "mYwih0TTAcnO"
      },
      "source": [
        "# importing all required libraries\n",
        "import tensorflow as tf\n",
        "from tensorflow.keras.models import Sequential\n",
        "from tensorflow.keras.layers import Input, Dense\n",
        "import numpy as np"
      ],
      "execution_count": 42,
      "outputs": []
    },
    {
      "cell_type": "code",
      "metadata": {
        "id": "u5NDtYKYCqAK"
      },
      "source": [
        "x = np.array([[0,0], [0,1], [1,0],[1,1]], \"uint8\") # input array of an AND gate\n",
        "y = np.array([[0], [0], [0], [1]], \"uint8\") #output array"
      ],
      "execution_count": 43,
      "outputs": []
    },
    {
      "cell_type": "code",
      "metadata": {
        "colab": {
          "base_uri": "https://localhost:8080/"
        },
        "id": "5MgWZjv8F-d7",
        "outputId": "9eca71c8-8de4-40e1-d06b-7fc9249a5909"
      },
      "source": [
        "AND_model = Sequential()\n",
        "AND_model.add(Dense(units=1, activation='sigmoid', input_dim=2)) #create output layer with 1 neuron \n",
        "AND_model.compile(optimizer='adam', loss='binary_crossentropy', metrics=['accuracy'])\n",
        "AND_model.summary()"
      ],
      "execution_count": 44,
      "outputs": [
        {
          "output_type": "stream",
          "text": [
            "Model: \"sequential_7\"\n",
            "_________________________________________________________________\n",
            "Layer (type)                 Output Shape              Param #   \n",
            "=================================================================\n",
            "dense_9 (Dense)              (None, 1)                 3         \n",
            "=================================================================\n",
            "Total params: 3\n",
            "Trainable params: 3\n",
            "Non-trainable params: 0\n",
            "_________________________________________________________________\n"
          ],
          "name": "stdout"
        }
      ]
    },
    {
      "cell_type": "code",
      "metadata": {
        "id": "-YeT2dEcJK_l"
      },
      "source": [
        "AND_model.fit(x, y, epochs=5000) # train an AND model"
      ],
      "execution_count": null,
      "outputs": []
    },
    {
      "cell_type": "code",
      "metadata": {
        "colab": {
          "base_uri": "https://localhost:8080/"
        },
        "id": "WZGoJ3gnKMu_",
        "outputId": "b0cbb594-88c0-452e-fcb0-0a2e8e6b1d50"
      },
      "source": [
        "print(AND_model.layers[0].get_weights())"
      ],
      "execution_count": 46,
      "outputs": [
        {
          "output_type": "stream",
          "text": [
            "[array([[2.4313061],\n",
            "       [2.9032228]], dtype=float32), array([-4.1607127], dtype=float32)]\n"
          ],
          "name": "stdout"
        }
      ]
    },
    {
      "cell_type": "code",
      "metadata": {
        "colab": {
          "base_uri": "https://localhost:8080/"
        },
        "id": "vsoMFBCnKs-R",
        "outputId": "ab093e1c-9877-46ec-ae6b-4b45adcf027e"
      },
      "source": [
        "AND_model.predict(x) # prdicted output of an AND model"
      ],
      "execution_count": 47,
      "outputs": [
        {
          "output_type": "execute_result",
          "data": {
            "text/plain": [
              "array([[0.01535696],\n",
              "       [0.22140631],\n",
              "       [0.1506635 ],\n",
              "       [0.7638341 ]], dtype=float32)"
            ]
          },
          "metadata": {
            "tags": []
          },
          "execution_count": 47
        }
      ]
    },
    {
      "cell_type": "code",
      "metadata": {
        "id": "LP9OA1p0NTvd"
      },
      "source": [
        "x = [[0,0], [0,1], [1,0], [1,1]] #input array of a XOR model\n",
        "y = [[0], [1], [1], [0]]# output array"
      ],
      "execution_count": 48,
      "outputs": []
    },
    {
      "cell_type": "code",
      "metadata": {
        "colab": {
          "base_uri": "https://localhost:8080/"
        },
        "id": "QY4ZK3KAN3qx",
        "outputId": "bd74d973-bc9e-43ae-8375-c2e6cd2ab9b6"
      },
      "source": [
        "XOR_model =Sequential()\n",
        "XOR_model.add(Dense(2, input_dim=2, activation='sigmoid')) # output layer with 2 neron\n",
        "XOR_model.add(Dense(1, activation='sigmoid')) #output layer with 1 neron\n",
        "XOR_model.compile(optimizer='adam', loss='binary_crossentropy', metrics=['accuracy'])\n",
        "XOR_model.summary()"
      ],
      "execution_count": 49,
      "outputs": [
        {
          "output_type": "stream",
          "text": [
            "Model: \"sequential_8\"\n",
            "_________________________________________________________________\n",
            "Layer (type)                 Output Shape              Param #   \n",
            "=================================================================\n",
            "dense_10 (Dense)             (None, 2)                 6         \n",
            "_________________________________________________________________\n",
            "dense_11 (Dense)             (None, 1)                 3         \n",
            "=================================================================\n",
            "Total params: 9\n",
            "Trainable params: 9\n",
            "Non-trainable params: 0\n",
            "_________________________________________________________________\n"
          ],
          "name": "stdout"
        }
      ]
    },
    {
      "cell_type": "code",
      "metadata": {
        "id": "egK6NXYfPMDn"
      },
      "source": [
        "XOR_model.fit(x, y, epochs=3000) # train XOR model"
      ],
      "execution_count": null,
      "outputs": []
    },
    {
      "cell_type": "code",
      "metadata": {
        "colab": {
          "base_uri": "https://localhost:8080/"
        },
        "id": "QmmCUEszZ6DA",
        "outputId": "d6fbcfbe-44b2-4d36-b1f9-37c13d3d98df"
      },
      "source": [
        "XOR_model.get_weights()"
      ],
      "execution_count": 55,
      "outputs": [
        {
          "output_type": "execute_result",
          "data": {
            "text/plain": [
              "[array([[ 5.9076285,  6.69145  ],\n",
              "        [-6.695324 , -6.2683043]], dtype=float32),\n",
              " array([-3.249003 ,  3.3246148], dtype=float32),\n",
              " array([[ 6.6885815],\n",
              "        [-6.214812 ]], dtype=float32),\n",
              " array([2.986019], dtype=float32)]"
            ]
          },
          "metadata": {
            "tags": []
          },
          "execution_count": 55
        }
      ]
    },
    {
      "cell_type": "code",
      "metadata": {
        "colab": {
          "base_uri": "https://localhost:8080/"
        },
        "id": "fVc05HE4bLKi",
        "outputId": "0f938736-9a5e-4efe-8bc9-5164020aac32"
      },
      "source": [
        "XOR_model.predict(x)# predicted output of XOR model"
      ],
      "execution_count": 56,
      "outputs": [
        {
          "output_type": "execute_result",
          "data": {
            "text/plain": [
              "array([[0.05935606],\n",
              "       [0.935558  ],\n",
              "       [0.9535686 ],\n",
              "       [0.04881659]], dtype=float32)"
            ]
          },
          "metadata": {
            "tags": []
          },
          "execution_count": 56
        }
      ]
    }
  ]
}